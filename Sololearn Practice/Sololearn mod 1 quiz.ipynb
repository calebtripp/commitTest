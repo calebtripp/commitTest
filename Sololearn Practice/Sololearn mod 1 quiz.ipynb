{
 "cells": [
  {
   "cell_type": "code",
   "execution_count": null,
   "metadata": {
    "dotnet_interactive": {
     "language": "csharp"
    },
    "vscode": {
     "languageId": "dotnet-interactive.csharp"
    }
   },
   "outputs": [
    {
     "name": "stdout",
     "output_type": "stream",
     "text": [
      "5\r\n"
     ]
    }
   ],
   "source": [
    "int a = 4;\n",
    "int b = 6;\n",
    "b = a++;\n",
    "Console.WriteLine(++b);\n"
   ]
  },
  {
   "cell_type": "code",
   "execution_count": null,
   "metadata": {
    "dotnet_interactive": {
     "language": "csharp"
    },
    "vscode": {
     "languageId": "dotnet-interactive.csharp"
    }
   },
   "outputs": [
    {
     "name": "stdout",
     "output_type": "stream",
     "text": [
      "3\r\n"
     ]
    }
   ],
   "source": [
    "int x = 15;\n",
    "int y = 6;\n",
    "x %= y;\n",
    "Console.WriteLine(x);"
   ]
  },
  {
   "cell_type": "code",
   "execution_count": null,
   "metadata": {
    "dotnet_interactive": {
     "language": "csharp"
    },
    "vscode": {
     "languageId": "dotnet-interactive.csharp"
    }
   },
   "outputs": [
    {
     "name": "stdout",
     "output_type": "stream",
     "text": [
      "What is the radius of the circle?\r\n"
     ]
    },
    {
     "ename": "Error",
     "evalue": "System.FormatException: Input string was not in a correct format.\r\n   at System.Number.ThrowOverflowOrFormatException(ParsingStatus status, TypeCode type)\r\n   at System.Convert.ToDouble(String value)\r\n   at Submission#27.<<Initialize>>d__0.MoveNext()\r\n--- End of stack trace from previous location ---\r\n   at Microsoft.CodeAnalysis.Scripting.ScriptExecutionState.RunSubmissionsAsync[TResult](ImmutableArray`1 precedingExecutors, Func`2 currentExecutor, StrongBox`1 exceptionHolderOpt, Func`2 catchExceptionOpt, CancellationToken cancellationToken)",
     "output_type": "error",
     "traceback": [
      "System.FormatException: Input string was not in a correct format.\r\n",
      "   at System.Number.ThrowOverflowOrFormatException(ParsingStatus status, TypeCode type)\r\n",
      "   at System.Convert.ToDouble(String value)\r\n",
      "   at Submission#27.<<Initialize>>d__0.MoveNext()\r\n",
      "--- End of stack trace from previous location ---\r\n",
      "   at Microsoft.CodeAnalysis.Scripting.ScriptExecutionState.RunSubmissionsAsync[TResult](ImmutableArray`1 precedingExecutors, Func`2 currentExecutor, StrongBox`1 exceptionHolderOpt, Func`2 catchExceptionOpt, CancellationToken cancellationToken)"
     ]
    }
   ],
   "source": [
    "const double pi = 3.14;\n",
    "double radius;\n",
    "Console.WriteLine(\"What is the radius of the circle?\");\n",
    "\n",
    "// didnt work double r = Convert.ToDouble(Console.ReadLine());\n",
    "radius = Convert.ToDouble(Console.ReadLine());\n",
    "\n",
    "\n",
    "// earlier trial, didnt work radius = Convert.ToDouble(Console.ReadLine()); //do I need to Convert.ToDouble?? its already one, right?\n",
    "double arEa = (radius * pi);\n",
    "Console.WriteLine(\"The area of your circle is arEa\");\n",
    "                     "
   ]
  }
 ],
 "metadata": {
  "kernelspec": {
   "display_name": ".NET (C#)",
   "language": "C#",
   "name": ".net-csharp"
  },
  "language_info": {
   "file_extension": ".cs",
   "mimetype": "text/x-csharp",
   "name": "C#",
   "pygments_lexer": "csharp",
   "version": "9.0"
  },
  "orig_nbformat": 4
 },
 "nbformat": 4,
 "nbformat_minor": 2
}
