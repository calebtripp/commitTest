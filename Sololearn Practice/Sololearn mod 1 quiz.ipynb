{
 "cells": [
  {
   "cell_type": "code",
   "execution_count": null,
   "metadata": {
    "dotnet_interactive": {
     "language": "csharp"
    },
    "vscode": {
     "languageId": "dotnet-interactive.csharp"
    }
   },
   "outputs": [
    {
     "name": "stdout",
     "output_type": "stream",
     "text": [
      "5\r\n"
     ]
    }
   ],
   "source": [
    "int a = 4;\n",
    "int b = 6;\n",
    "b = a++;\n",
    "Console.WriteLine(++b);\n"
   ]
  },
  {
   "cell_type": "code",
   "execution_count": null,
   "metadata": {
    "dotnet_interactive": {
     "language": "csharp"
    },
    "vscode": {
     "languageId": "dotnet-interactive.csharp"
    }
   },
   "outputs": [
    {
     "name": "stdout",
     "output_type": "stream",
     "text": [
      "3\r\n"
     ]
    }
   ],
   "source": [
    "int x = 15;\n",
    "int y = 6;\n",
    "x %= y;\n",
    "Console.WriteLine(x);"
   ]
  },
  {
   "cell_type": "code",
   "execution_count": null,
   "metadata": {
    "dotnet_interactive": {
     "language": "csharp"
    },
    "vscode": {
     "languageId": "dotnet-interactive.csharp"
    }
   },
   "outputs": [
    {
     "ename": "Error",
     "evalue": "(8,23): error CS0029: Cannot implicitly convert type 'string' to 'int'",
     "output_type": "error",
     "traceback": [
      "(8,23): error CS0029: Cannot implicitly convert type 'string' to 'int'"
     ]
    }
   ],
   "source": [
    "\n",
    "            const double pi = 3.14;\n",
    "            double radius;\n",
    "            Convert.ToInt32(radius);\n",
    "    \n",
    "            Console.WriteLine(\"What is the radius of the circle?\");\n",
    "           \n",
    "           int area = Console.ReadLine();\n",
    "           \n",
    "\n",
    "       \n",
    "\n",
    "\n",
    "           Console.WriteLine(\"Hello, the area of your circle is area\");\n",
    "            \n",
    "            "
   ]
  }
 ],
 "metadata": {
  "kernelspec": {
   "display_name": ".NET (C#)",
   "language": "C#",
   "name": ".net-csharp"
  },
  "language_info": {
   "file_extension": ".cs",
   "mimetype": "text/x-csharp",
   "name": "C#",
   "pygments_lexer": "csharp",
   "version": "9.0"
  },
  "orig_nbformat": 4
 },
 "nbformat": 4,
 "nbformat_minor": 2
}
